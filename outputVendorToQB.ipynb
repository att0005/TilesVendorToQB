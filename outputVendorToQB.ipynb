{
 "cells": [
  {
   "cell_type": "code",
   "execution_count": 197,
   "metadata": {},
   "outputs": [],
   "source": [
    "import pandas as pd\n",
    "import numpy as np\n",
    "import re"
   ]
  },
  {
   "cell_type": "code",
   "execution_count": null,
   "metadata": {},
   "outputs": [],
   "source": [
    "# Read the Excel file\n",
    "df = pd.read_excel('/Users/Angel/Documents/VS/Book5StoneandMOre(box).xlsx')"
   ]
  },
  {
   "cell_type": "code",
   "execution_count": null,
   "metadata": {},
   "outputs": [],
   "source": [
    "# Column NEEDED for QB\n",
    "df['Taxable'] = 'Yes'\n",
    "df['Type'] = 'Non-inventory'\n",
    "df['Income Account'] = 'Sales of Product:Tile Income'\n",
    "df['Expense Account'] = 'Cost of goods sold:Tile - COGS'\n",
    "\n",
    "#### Notes ####\n",
    "# Product/Service Name x\n",
    "# Sales Description x\n",
    "# Taxable x\n",
    "# SKU x\n",
    "# Type x\n",
    "# Sales Price / Rate x\n",
    "# Income Account x\n",
    "# Purchase Description\n",
    "# Purchase Cost x\n",
    "# Expense Account x"
   ]
  },
  {
   "cell_type": "code",
   "execution_count": 198,
   "metadata": {},
   "outputs": [],
   "source": [
    "######################\n",
    "##### MIR VENDOR #####\n",
    "######################\n",
    "\n",
    "# df['SQ/Box'] = df['SQ/Box'].astype(str)\n",
    "\n",
    "\n",
    "# df['SQ/PC'] = '(' + df['SQ/PC'].astype(str) + 'SF/PC)'\n",
    "# df['SQ/Box'] = df['SQ/Box'].apply(lambda x: x + 'SF/CT' if 'PC' not in x else x)\n",
    "\n",
    "# # Combine values from multiple columns into a new column\n",
    "# df['Product/Service Name'] = 'MIR / ' + df['Collection Name'].astype(str) + ' ' + df['PRODUCT NAME'].astype(str) + ' ' + df['SQ/PC'].astype(str) + ' ' + df['SQ/Box'].astype(str)\n",
    "# df['Sales Description'] = df['New Collection Name'].astype(str) + ' -  ' + df['New Product Name'].astype(str) \n",
    "# df['Purchase Description'] = df['PRODUCT CODE'].astype(str) + '\\n' + df['Collection Name'].astype(str) + \" - \" + df['PRODUCT NAME'].astype(str) \n",
    "\n",
    "\n",
    "# # Replace line breaks with spaces\n",
    "# df['Product/Service Name'] = df['Product/Service Name'].replace('\\n', ' ', regex=True)\n",
    "\n",
    "# # Remove leading and trailing whitespace\n",
    "# df['Product/Service Name'] = df['Product/Service Name'].str.strip()\n",
    "\n",
    "# df['Taxable'] = 'Yes'\n",
    "# df['Type'] = 'Non-inventory'\n",
    "# df['Income Account'] = 'Sales of Product:Tile Income'\n",
    "# df['Expense Account'] = 'Cost of goods sold:Tile - COGS'\n",
    "\n",
    "# df.rename(columns={'PRODUCT CODE': 'SKU'}, inplace=True)\n",
    "# df.rename(columns={'PRODUCT CODE': 'SKU', 'Retail Cost' :'Sales Price / Rate','Cost to Buy':'Purchase Cost'}, inplace=True)\n",
    "\n",
    "\n",
    "\n",
    "# # Drop all columns except for the specified columns\n",
    "# df = df[['Product/Service Name', 'Sales Description', 'Taxable', 'SKU', 'Type', 'Sales Price / Rate', 'Income Account','Purchase Description','Purchase Cost','Expense Account']]\n",
    "\n",
    "# df.to_excel('/Users/Angel/Documents/VS/mirTestOutput.xlsx', index=False)\n",
    "\n",
    "# display(df)\n"
   ]
  },
  {
   "cell_type": "code",
   "execution_count": 200,
   "metadata": {},
   "outputs": [],
   "source": [
    "#######################\n",
    "##### STONE & MORE ####\n",
    "#######################\n",
    "\n",
    "\n",
    "# import re\n",
    "# def calculate_square_footage(dimensions):\n",
    "#     # Split the dimensions string at 'x' or 'X' and strip any spaces\n",
    "#     length, width = [float(dim.strip()) for dim in dimensions.lower().split('x') if dim.strip()]\n",
    "    \n",
    "#     # Assuming the dimensions are in inches, convert them to feet\n",
    "#     length_in_feet = length / 12\n",
    "#     width_in_feet = width / 12\n",
    "\n",
    "#     # Return the square footage\n",
    "#     return length_in_feet * width_in_feet\n",
    "\n",
    "# df['SQ/PC'] = df['Sheet Size'].apply(lambda x: round(calculate_square_footage(x), 2))\n",
    "\n",
    "\n",
    "# # df['SKU'] = df['Collection Name'].astype(str) + ' ' + df['PRODUCT NAME'].astype(str)\n",
    "\n",
    "\n",
    "# df['SQ/PC'] = df['SQ/PC'].apply(lambda x: str(x) + ' SF/PC')\n",
    "\n",
    "# df['Sales Price / Rate'] = df['Purchase Cost'].astype(float) * 1.4\n",
    "\n",
    "# # Product/Service Name\n",
    "# df['Product/Service Name'] = 'Stone&More / '  + df['SKU'].astype(str) + ' ' + df['Collection Name'].astype(str) + ' ' + df['PRODUCT NAME'].astype(str) + ' ' + df['Sheet Size'].astype(str) + ' (' + df['SQ/PC'].astype(str) + ') ' + df['SF/Box'].astype(str)  + 'Sf/Box'\n",
    "# display(df['Product/Service Name'])\n",
    "\n",
    "# # Sales Description\n",
    "# df['Sales Description'] = df['New Collection Name'].astype(str) + ' -  ' + df['New Product Name'].astype(str)\n",
    "\n",
    "# # Purchase Description\n",
    "# df['Purchase Description'] = df['SKU'].astype(str) + ' \\n ' + df['Collection Name'].astype(str) + \" - \" + df['PRODUCT NAME'].astype(str)\n",
    "\n",
    "# # Drop all columns except for the specified columns\n",
    "# df = df[['Product/Service Name', 'Sales Description', 'Taxable', 'SKU', 'Type', 'Sales Price / Rate', 'Income Account','Purchase Description','Purchase Cost','Expense Account']]\n",
    "\n",
    "# df.to_excel('/Users/Angel/Documents/VS/StoneandMoreOutput.xlsx', index=False)\n",
    "\n",
    "# display(df)\n",
    "\n"
   ]
  }
 ],
 "metadata": {
  "kernelspec": {
   "display_name": "Python 3",
   "language": "python",
   "name": "python3"
  },
  "language_info": {
   "codemirror_mode": {
    "name": "ipython",
    "version": 3
   },
   "file_extension": ".py",
   "mimetype": "text/x-python",
   "name": "python",
   "nbconvert_exporter": "python",
   "pygments_lexer": "ipython3",
   "version": "3.11.7"
  }
 },
 "nbformat": 4,
 "nbformat_minor": 2
}
